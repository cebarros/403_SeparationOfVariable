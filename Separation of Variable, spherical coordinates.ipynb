{
 "cells": [
  {
   "cell_type": "markdown",
   "metadata": {},
   "source": [
    "# Separation of Variables in spherical coordinates\n",
    "\n",
    "with the Laplace equation in spherical coordiantes:\n",
    "\n",
    "$$ \\frac{1}{r^2}\\frac{\\partial}{\\partial r}\\left (r^2 \\frac{\\partial V}{\\partial r}\\right )+ \n",
    "   \\frac{1}{r^2\\sin \\theta}\\frac{\\partial}{\\partial \\theta} \\left (\\sin \\theta \\frac{\\partial V}{\\partial \\theta}\\right )+\n",
    "   \\frac{1}{r^2\\sin^2 \\theta}\\frac{\\partial^2 V}{\\partial \\phi^2}\n",
    "   =0\n",
    "$$"
   ]
  },
  {
   "cell_type": "markdown",
   "metadata": {},
   "source": [
    "we are assuming azimuthal symmetry here and ths V is independent of $\\phi$, even though the general care is solveable as well and it simplifies to:\n",
    "\n",
    "$$ \\frac{\\partial}{\\partial r}\\left (r^2 \\frac{\\partial V}{\\partial r}\\right )+ \n",
    "   \\frac{1}{\\sin \\theta}\\frac{\\partial}{\\partial \\theta} \\left (\\sin \\theta \\frac{\\partial V}{\\partial \\theta}\\right )\n",
    "   =0\n",
    "$$"
   ]
  },
  {
   "cell_type": "markdown",
   "metadata": {},
   "source": [
    "Again we are looking for solutions as products:\n",
    "    \n",
    "$$ V(r,\\theta) = R(r)\\Theta(\\theta)$$"
   ]
  },
  {
   "cell_type": "markdown",
   "metadata": {},
   "source": [
    "Separating of variables gives us:\n",
    "    \n",
    "$$ \\frac 1 R \\frac{\\partial}{\\partial r}\\left (r^2 \\frac{\\partial R}{\\partial r}\\right )= \n",
    "   -\\frac{1}{\\Theta\\sin \\theta}\\frac{\\partial}{\\partial \\theta} \\left (\\sin \\theta \\frac{\\partial \\Theta}{\\partial \\theta}\\right ) $$\n",
    "   \n",
    "which can only be equal if the left side and the right side are constants (since they each only depend on $r$ or $\\theta$ respectively)"
   ]
  },
  {
   "cell_type": "markdown",
   "metadata": {},
   "source": [
    "So we are setting constants for the left side:\n",
    "\n",
    "    \n",
    "$$ \\frac 1 R \\frac{\\partial}{\\partial r}\\left (r^2 \\frac{\\partial R}{\\partial r}\\right )=\n",
    "   l(l+1)$$\n",
    "   \n",
    "and for the right side:\n",
    "$$ \\frac{1}{\\Theta\\sin \\theta}\\frac{\\partial}{\\partial \\theta} \\left (\\sin \\theta \\frac{\\partial \\Theta}{\\partial \\theta}\\right ) = - l(l+1) $$\n",
    "\n",
    "and thus have converted a PDE in two ODEs."
   ]
  },
  {
   "cell_type": "markdown",
   "metadata": {},
   "source": [
    "### Solving the left side:"
   ]
  },
  {
   "cell_type": "code",
   "execution_count": 1,
   "metadata": {},
   "outputs": [],
   "source": [
    "from sympy.interactive import printing # use latex for printing\n",
    "printing.init_printing(use_latex=True)\n",
    "from sympy import Function, dsolve, Eq, Derivative, sin, cos, symbols # import necessary methods\n",
    "from sympy.abc import theta # import variables"
   ]
  },
  {
   "cell_type": "code",
   "execution_count": 2,
   "metadata": {},
   "outputs": [
    {
     "data": {
      "image/png": "[encoded data removed]",
      "text/latex": [
       "$$- l \\left(l + 1\\right) R{\\left (r \\right )} + \\frac{d}{d r} r^{2} \\frac{d}{d r} R{\\left (r \\right )} = 0$$"
      ],
      "text/plain": [
       "                  d ⎛ 2 d       ⎞    \n",
       "-l⋅(l + 1)⋅R(r) + ──⎜r ⋅──(R(r))⎟ = 0\n",
       "                  dr⎝   dr      ⎠    "
      ]
     },
     "execution_count": 2,
     "metadata": {},
     "output_type": "execute_result"
    }
   ],
   "source": [
    "r, l = symbols('r l',positive=True)\n",
    "R = Function('R',real=True)\n",
    "s1_ode = Eq(Derivative((r**2*Derivative(R(r),r,1)), r, 1)-l*(l+1)*R(r))\n",
    "s1_ode"
   ]
  },
  {
   "cell_type": "code",
   "execution_count": 3,
   "metadata": {},
   "outputs": [
    {
     "data": {
      "image/png": "[encoded data removed]",
      "text/latex": [
       "$$R{\\left (r \\right )} = C_{1} r^{l} + C_{2} r^{- l - 1}$$"
      ],
      "text/plain": [
       "           l       -l - 1\n",
       "R(r) = C₁⋅r  + C₂⋅r      "
      ]
     },
     "execution_count": 3,
     "metadata": {},
     "output_type": "execute_result"
    }
   ],
   "source": [
    "sol1 = dsolve(s1_ode, R(r))\n",
    "sol1"
   ]
  },
  {
   "cell_type": "markdown",
   "metadata": {},
   "source": [
    "### Solving the right side"
   ]
  },
  {
   "cell_type": "code",
   "execution_count": 4,
   "metadata": {},
   "outputs": [
    {
     "data": {
      "image/png": "[encoded data removed]",
      "text/latex": [
       "$$l \\left(l + 1\\right) \\Theta{\\left (\\theta \\right )} \\sin{\\left (\\theta \\right )} + \\frac{d}{d \\theta} \\sin{\\left (\\theta \\right )} \\frac{d}{d \\theta} \\Theta{\\left (\\theta \\right )} = 0$$"
      ],
      "text/plain": [
       "                        d ⎛       d       ⎞    \n",
       "l⋅(l + 1)⋅Θ(θ)⋅sin(θ) + ──⎜sin(θ)⋅──(Θ(θ))⎟ = 0\n",
       "                        dθ⎝       dθ      ⎠    "
      ]
     },
     "execution_count": 4,
     "metadata": {},
     "output_type": "execute_result"
    }
   ],
   "source": [
    "t, l = symbols('theta l')\n",
    "T = Function('Theta',real=True)\n",
    "s2_ode = Eq(Derivative(sin(t)*Derivative(T(t),t,1), t, 1)+l*(l+1)*sin(t)*T(t))\n",
    "s2_ode"
   ]
  },
  {
   "cell_type": "code",
   "execution_count": 5,
   "metadata": {},
   "outputs": [
    {
     "ename": "NotImplementedError",
     "evalue": "solve: Cannot solve l*(l + 1)*Theta(theta)*sin(theta) + sin(theta)*Derivative(Theta(theta), (theta, 2)) + cos(theta)*Derivative(Theta(theta), theta)",
     "output_type": "error",
     "traceback": [
      "\u001b[0;31m---------------------------------------------------------------------------\u001b[0m",
      "\u001b[0;31mNotImplementedError\u001b[0m                       Traceback (most recent call last)",
      "\u001b[0;32m<ipython-input-5-a864d814468b>\u001b[0m in \u001b[0;36m<module>\u001b[0;34m\u001b[0m\n\u001b[0;32m----> 1\u001b[0;31m \u001b[0msol2\u001b[0m \u001b[0;34m=\u001b[0m \u001b[0mdsolve\u001b[0m\u001b[0;34m(\u001b[0m\u001b[0ms2_ode\u001b[0m\u001b[0;34m,\u001b[0m \u001b[0mT\u001b[0m\u001b[0;34m(\u001b[0m\u001b[0mt\u001b[0m\u001b[0;34m)\u001b[0m\u001b[0;34m)\u001b[0m\u001b[0;34m\u001b[0m\u001b[0m\n\u001b[0m\u001b[1;32m      2\u001b[0m \u001b[0msol2\u001b[0m\u001b[0;34m\u001b[0m\u001b[0m\n",
      "\u001b[0;32m/usr/local/lib/python3.7/site-packages/sympy/solvers/ode.py\u001b[0m in \u001b[0;36mdsolve\u001b[0;34m(eq, func, hint, simplify, ics, xi, eta, x0, n, **kwargs)\u001b[0m\n\u001b[1;32m    628\u001b[0m         hints = _desolve(eq, func=func,\n\u001b[1;32m    629\u001b[0m             \u001b[0mhint\u001b[0m\u001b[0;34m=\u001b[0m\u001b[0mhint\u001b[0m\u001b[0;34m,\u001b[0m \u001b[0msimplify\u001b[0m\u001b[0;34m=\u001b[0m\u001b[0;32mTrue\u001b[0m\u001b[0;34m,\u001b[0m \u001b[0mxi\u001b[0m\u001b[0;34m=\u001b[0m\u001b[0mxi\u001b[0m\u001b[0;34m,\u001b[0m \u001b[0meta\u001b[0m\u001b[0;34m=\u001b[0m\u001b[0meta\u001b[0m\u001b[0;34m,\u001b[0m \u001b[0mtype\u001b[0m\u001b[0;34m=\u001b[0m\u001b[0;34m'ode'\u001b[0m\u001b[0;34m,\u001b[0m \u001b[0mics\u001b[0m\u001b[0;34m=\u001b[0m\u001b[0mics\u001b[0m\u001b[0;34m,\u001b[0m\u001b[0;34m\u001b[0m\u001b[0m\n\u001b[0;32m--> 630\u001b[0;31m             x0=x0, n=n, **kwargs)\n\u001b[0m\u001b[1;32m    631\u001b[0m \u001b[0;34m\u001b[0m\u001b[0m\n\u001b[1;32m    632\u001b[0m         \u001b[0meq\u001b[0m \u001b[0;34m=\u001b[0m \u001b[0mhints\u001b[0m\u001b[0;34m.\u001b[0m\u001b[0mpop\u001b[0m\u001b[0;34m(\u001b[0m\u001b[0;34m'eq'\u001b[0m\u001b[0;34m,\u001b[0m \u001b[0meq\u001b[0m\u001b[0;34m)\u001b[0m\u001b[0;34m\u001b[0m\u001b[0m\n",
      "\u001b[0;32m/usr/local/lib/python3.7/site-packages/sympy/solvers/deutils.py\u001b[0m in \u001b[0;36m_desolve\u001b[0;34m(eq, func, hint, ics, simplify, **kwargs)\u001b[0m\n\u001b[1;32m    233\u001b[0m             \u001b[0;32mraise\u001b[0m \u001b[0mValueError\u001b[0m\u001b[0;34m(\u001b[0m\u001b[0mstring\u001b[0m \u001b[0;34m+\u001b[0m \u001b[0mstr\u001b[0m\u001b[0;34m(\u001b[0m\u001b[0meq\u001b[0m\u001b[0;34m)\u001b[0m \u001b[0;34m+\u001b[0m \u001b[0;34m\" does not match hint \"\u001b[0m \u001b[0;34m+\u001b[0m \u001b[0mhint\u001b[0m\u001b[0;34m)\u001b[0m\u001b[0;34m\u001b[0m\u001b[0m\n\u001b[1;32m    234\u001b[0m         \u001b[0;32melse\u001b[0m\u001b[0;34m:\u001b[0m\u001b[0;34m\u001b[0m\u001b[0m\n\u001b[0;32m--> 235\u001b[0;31m             \u001b[0;32mraise\u001b[0m \u001b[0mNotImplementedError\u001b[0m\u001b[0;34m(\u001b[0m\u001b[0mdummy\u001b[0m \u001b[0;34m+\u001b[0m \u001b[0;34m\"solve\"\u001b[0m \u001b[0;34m+\u001b[0m \u001b[0;34m\": Cannot solve \"\u001b[0m \u001b[0;34m+\u001b[0m \u001b[0mstr\u001b[0m\u001b[0;34m(\u001b[0m\u001b[0meq\u001b[0m\u001b[0;34m)\u001b[0m\u001b[0;34m)\u001b[0m\u001b[0;34m\u001b[0m\u001b[0m\n\u001b[0m\u001b[1;32m    236\u001b[0m     \u001b[0;32mif\u001b[0m \u001b[0mhint\u001b[0m \u001b[0;34m==\u001b[0m \u001b[0;34m'default'\u001b[0m\u001b[0;34m:\u001b[0m\u001b[0;34m\u001b[0m\u001b[0m\n\u001b[1;32m    237\u001b[0m         return _desolve(eq, func, ics=ics, hint=hints['default'], simplify=simplify,\n",
      "\u001b[0;31mNotImplementedError\u001b[0m: solve: Cannot solve l*(l + 1)*Theta(theta)*sin(theta) + sin(theta)*Derivative(Theta(theta), (theta, 2)) + cos(theta)*Derivative(Theta(theta), theta)"
     ]
    }
   ],
   "source": [
    "sol2 = dsolve(s2_ode, T(t))\n",
    "sol2"
   ]
  },
  {
   "cell_type": "markdown",
   "metadata": {},
   "source": [
    "### Legendre Polynomials"
   ]
  },
  {
   "cell_type": "code",
   "execution_count": 6,
   "metadata": {},
   "outputs": [],
   "source": [
    "from sympy.plotting import plot\n",
    "from sympy import legendre, pi\n",
    "%matplotlib inline"
   ]
  },
  {
   "cell_type": "code",
   "execution_count": 7,
   "metadata": {},
   "outputs": [],
   "source": [
    "t = symbols('theta',positive=True)\n",
    "P0 = lambda t: legendre(0,t)\n",
    "P1 = lambda t: legendre(1,t)\n",
    "P2 = lambda t: legendre(2,t)\n",
    "P3 = lambda t: legendre(3,t)\n",
    "P4 = lambda t: legendre(4,t)"
   ]
  },
  {
   "cell_type": "code",
   "execution_count": 8,
   "metadata": {},
   "outputs": [
    {
     "data": {
      "image/png": "[encoded data removed]",
      "text/latex": [
       "$$1$$"
      ],
      "text/plain": [
       "1"
      ]
     },
     "execution_count": 8,
     "metadata": {},
     "output_type": "execute_result"
    }
   ],
   "source": [
    "P0(cos(t))"
   ]
  },
  {
   "cell_type": "code",
   "execution_count": 9,
   "metadata": {},
   "outputs": [
    {
     "data": {
      "image/png": "[encoded data removed]",
      "text/latex": [
       "$$\\cos{\\left (\\theta \\right )}$$"
      ],
      "text/plain": [
       "cos(θ)"
      ]
     },
     "execution_count": 9,
     "metadata": {},
     "output_type": "execute_result"
    }
   ],
   "source": [
    "P1(cos(t))"
   ]
  },
  {
   "cell_type": "code",
   "execution_count": 10,
   "metadata": {},
   "outputs": [
    {
     "data": {
      "image/png": "[encoded data removed]",
      "text/latex": [
       "$$\\frac{3 \\cos^{2}{\\left (\\theta \\right )}}{2} - \\frac{1}{2}$$"
      ],
      "text/plain": [
       "     2       \n",
       "3⋅cos (θ)   1\n",
       "───────── - ─\n",
       "    2       2"
      ]
     },
     "execution_count": 10,
     "metadata": {},
     "output_type": "execute_result"
    }
   ],
   "source": [
    "P2(cos(t))"
   ]
  },
  {
   "cell_type": "code",
   "execution_count": 11,
   "metadata": {},
   "outputs": [
    {
     "data": {
      "image/png": "[encoded data removed]",
      "text/latex": [
       "$$\\frac{5 \\cos^{3}{\\left (\\theta \\right )}}{2} - \\frac{3 \\cos{\\left (\\theta \\right )}}{2}$$"
      ],
      "text/plain": [
       "     3              \n",
       "5⋅cos (θ)   3⋅cos(θ)\n",
       "───────── - ────────\n",
       "    2          2    "
      ]
     },
     "execution_count": 11,
     "metadata": {},
     "output_type": "execute_result"
    }
   ],
   "source": [
    "P3(cos(t))"
   ]
  },
  {
   "cell_type": "code",
   "execution_count": 12,
   "metadata": {},
   "outputs": [
    {
     "data": {
      "image/png": "[encoded data removed]",
      "text/latex": [
       "$$\\frac{35 \\cos^{4}{\\left (\\theta \\right )}}{8} - \\frac{15 \\cos^{2}{\\left (\\theta \\right )}}{4} + \\frac{3}{8}$$"
      ],
      "text/plain": [
       "      4            2       \n",
       "35⋅cos (θ)   15⋅cos (θ)   3\n",
       "────────── - ────────── + ─\n",
       "    8            4        8"
      ]
     },
     "execution_count": 12,
     "metadata": {},
     "output_type": "execute_result"
    }
   ],
   "source": [
    "P4(cos(t))"
   ]
  },
  {
   "cell_type": "code",
   "execution_count": 13,
   "metadata": {},
   "outputs": [
    {
     "data": {
      "image/png": "[encoded data removed]",
      "text/plain": [
       "<Figure size 432x288 with 1 Axes>"
      ]
     },
     "metadata": {
      "needs_background": "light"
     },
     "output_type": "display_data"
    },
    {
     "data": {
      "text/plain": [
       "<sympy.plotting.plot.Plot at 0x10e3501d0>"
      ]
     },
     "execution_count": 13,
     "metadata": {},
     "output_type": "execute_result"
    }
   ],
   "source": [
    "plot(P0(cos(t)),P1(cos(t)),P2(cos(t)),P3(cos(t)),P4(cos(t)),(t,0,pi))"
   ]
  },
  {
   "cell_type": "markdown",
   "metadata": {},
   "source": [
    "Legendre polynomials with the argument $\\cos\\theta$ are the solutions for the right side:\n",
    "\n",
    "$$ \\Theta(\\theta) = P_l(\\cos\\theta) $$"
   ]
  },
  {
   "cell_type": "markdown",
   "metadata": {},
   "source": [
    "Which gives the most general separabe solution to Laplace equation (for physics):\n",
    "\n",
    "$$ V(r,\\theta)=\\sum_{l=0}^{\\infty}\\left (A_l r^l+\\frac{B_l}{r^{l+1}}\\right ) P_l(\\cos\\theta) $$"
   ]
  },
  {
   "cell_type": "code",
   "execution_count": null,
   "metadata": {},
   "outputs": [],
   "source": []
  }
 ],
 "metadata": {
  "kernelspec": {
   "display_name": "Python 3",
   "language": "python",
   "name": "python3"
  },
  "language_info": {
   "codemirror_mode": {
    "name": "ipython",
    "version": 3
   },
   "file_extension": ".py",
   "mimetype": "text/x-python",
   "name": "python",
   "nbconvert_exporter": "python",
   "pygments_lexer": "ipython3",
   "version": "3.7.0"
  }
 },
 "nbformat": 4,
 "nbformat_minor": 2
}
